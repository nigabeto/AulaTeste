{
  "nbformat": 4,
  "nbformat_minor": 0,
  "metadata": {
    "colab": {
      "provenance": [],
      "authorship_tag": "ABX9TyMsHqt31KalK1cQK4dGPiuW",
      "include_colab_link": true
    },
    "kernelspec": {
      "name": "python3",
      "display_name": "Python 3"
    },
    "language_info": {
      "name": "python"
    }
  },
  "cells": [
    {
      "cell_type": "markdown",
      "metadata": {
        "id": "view-in-github",
        "colab_type": "text"
      },
      "source": [
        "<a href=\"https://colab.research.google.com/github/nigabeto/AulaTeste/blob/main/Inicio_Colab.ipynb\" target=\"_parent\"><img src=\"https://colab.research.google.com/assets/colab-badge.svg\" alt=\"Open In Colab\"/></a>"
      ]
    },
    {
      "cell_type": "code",
      "execution_count": null,
      "metadata": {
        "id": "5IC24MnkPoO7"
      },
      "outputs": [],
      "source": [
        "idade = 98;\n",
        "print (idade);\n",
        "print (type(idade));\n",
        "print (\"Hello World\");"
      ]
    },
    {
      "cell_type": "code",
      "source": [
        "nome = \"José Roberto\";\n",
        "idade = 62;\n",
        "comidaFavorita = \"Feijoada\";\n",
        "bebidaFavorita = \"Caipirinha\";\n",
        "valorComida = 45.00;\n",
        "valorBebida = 25.00;\n",
        "bebidaAlcoolica = False;\n",
        "print (nome);\n",
        "print (idade);\n",
        "print (comidaFavorita);\n",
        "print (bebidaFavorita);\n",
        "print (valorComida);\n",
        "print (valorBebida);\n",
        "print (bebidaAlcoolica);\n",
        "\n",
        "if(bebidaAlcoolica ):\n",
        "  print (\"CACHACEIRO!\");\n",
        "else:\n",
        "  print (\"morreu\");\n"
      ],
      "metadata": {
        "colab": {
          "base_uri": "https://localhost:8080/"
        },
        "id": "CYhdJoTwWBsm",
        "outputId": "8a80ab56-14a6-4c1a-dc4c-0f25c95c4489"
      },
      "execution_count": null,
      "outputs": [
        {
          "output_type": "stream",
          "name": "stdout",
          "text": [
            "José Roberto\n",
            "62\n",
            "Feijoada\n",
            "Caipirinha\n",
            "45.0\n",
            "25.0\n",
            "False\n",
            "morreu\n"
          ]
        }
      ]
    },
    {
      "cell_type": "code",
      "source": [
        "# Usando o loop 'for'\n",
        "for andar in range(20, 0, -1):\n",
        "    if andar != 13:\n",
        "        print(f\"{andar}º andar\")\n"
      ],
      "metadata": {
        "colab": {
          "base_uri": "https://localhost:8080/"
        },
        "id": "EiQpuDd6rhRw",
        "outputId": "c2ecd5ff-bec8-48a2-f3f5-f7397cfc0f16"
      },
      "execution_count": null,
      "outputs": [
        {
          "output_type": "stream",
          "name": "stdout",
          "text": [
            "20º andar\n",
            "19º andar\n",
            "18º andar\n",
            "17º andar\n",
            "16º andar\n",
            "15º andar\n",
            "14º andar\n",
            "12º andar\n",
            "11º andar\n",
            "10º andar\n",
            "9º andar\n",
            "8º andar\n",
            "7º andar\n",
            "6º andar\n",
            "5º andar\n",
            "4º andar\n",
            "3º andar\n",
            "2º andar\n",
            "1º andar\n"
          ]
        }
      ]
    },
    {
      "cell_type": "code",
      "source": [
        "# Usando o loop 'while'\n",
        "andar = 20\n",
        "while andar >= 1:\n",
        "    if andar != 13:\n",
        "        print(f\"{andar}º andar\")\n",
        "    andar -= 1\n"
      ],
      "metadata": {
        "colab": {
          "base_uri": "https://localhost:8080/"
        },
        "id": "a3XTP35iro2-",
        "outputId": "7ebf40a8-fbe2-482d-c2b2-b22cba52615f"
      },
      "execution_count": null,
      "outputs": [
        {
          "output_type": "stream",
          "name": "stdout",
          "text": [
            "20º andar\n",
            "19º andar\n",
            "18º andar\n",
            "17º andar\n",
            "16º andar\n",
            "15º andar\n",
            "14º andar\n",
            "12º andar\n",
            "11º andar\n",
            "10º andar\n",
            "9º andar\n",
            "8º andar\n",
            "7º andar\n",
            "6º andar\n",
            "5º andar\n",
            "4º andar\n",
            "3º andar\n",
            "2º andar\n",
            "1º andar\n"
          ]
        }
      ]
    },
    {
      "cell_type": "code",
      "source": [
        "# Usando o loop 'for' com continue\n",
        "for andar in range(20, 0, -1):\n",
        "    if andar == 13:\n",
        "        continue\n",
        "    print(f\"{andar}º andar\")\n"
      ],
      "metadata": {
        "colab": {
          "base_uri": "https://localhost:8080/"
        },
        "id": "_6X7_fCJsBED",
        "outputId": "f5d8109e-2e39-46ae-bc05-a574f2edea35"
      },
      "execution_count": null,
      "outputs": [
        {
          "output_type": "stream",
          "name": "stdout",
          "text": [
            "20º andar\n",
            "19º andar\n",
            "18º andar\n",
            "17º andar\n",
            "16º andar\n",
            "15º andar\n",
            "14º andar\n",
            "12º andar\n",
            "11º andar\n",
            "10º andar\n",
            "9º andar\n",
            "8º andar\n",
            "7º andar\n",
            "6º andar\n",
            "5º andar\n",
            "4º andar\n",
            "3º andar\n",
            "2º andar\n",
            "1º andar\n"
          ]
        }
      ]
    },
    {
      "cell_type": "code",
      "source": [
        "# Usando o loop 'while' com continue\n",
        "andar = 20\n",
        "while andar >= 1:\n",
        "    if andar == 13:\n",
        "        andar -= 1\n",
        "        continue\n",
        "    print(f\"{andar}º andar\")\n",
        "    andar -= 1\n"
      ],
      "metadata": {
        "colab": {
          "base_uri": "https://localhost:8080/"
        },
        "id": "HZehsxpLsEwD",
        "outputId": "79a13dea-2aa2-4a11-d50b-5d535ac375b1"
      },
      "execution_count": null,
      "outputs": [
        {
          "output_type": "stream",
          "name": "stdout",
          "text": [
            "20º andar\n",
            "19º andar\n",
            "18º andar\n",
            "17º andar\n",
            "16º andar\n",
            "15º andar\n",
            "14º andar\n",
            "12º andar\n",
            "11º andar\n",
            "10º andar\n",
            "9º andar\n",
            "8º andar\n",
            "7º andar\n",
            "6º andar\n",
            "5º andar\n",
            "4º andar\n",
            "3º andar\n",
            "2º andar\n",
            "1º andar\n"
          ]
        }
      ]
    },
    {
      "cell_type": "code",
      "source": [
        "def calculadoraImc(peso, altura):\n",
        "\n",
        "     imc = peso/(altura*altura) * 10000\n",
        "\n",
        "     if (imc <= 18.5):\n",
        "      return \"Magreza\"\n",
        "\n",
        "     elif (imc > 18.5) and (imc <= 24.9):\n",
        "      return \"Saudavel\"\n",
        "\n",
        "     elif (imc >= 25) and (imc <= 29.9):\n",
        "      return \"Sobrepeso\"\n",
        "\n",
        "     elif (imc > 30) and (imc <= 34.9):\n",
        "      return \"Obesidade grau 1\"\n",
        "\n",
        "     elif (imc > 35) and (imc <= 39.9):\n",
        "      return \"Obesidade severa grau 2\"\n",
        "\n",
        "     else :\n",
        "      return \"Obesidade morbida grau 3\"\n",
        "\n",
        "peso = 95\n",
        "\n",
        "altura = 184\n",
        "\n",
        "resultado = calculadoraImc(peso,altura)\n",
        "\n",
        "print(resultado)"
      ],
      "metadata": {
        "colab": {
          "base_uri": "https://localhost:8080/"
        },
        "id": "gRLSoMwYyg0f",
        "outputId": "cd5910c7-f16d-409c-bb9a-7d8bcbf9feaf"
      },
      "execution_count": null,
      "outputs": [
        {
          "output_type": "stream",
          "name": "stdout",
          "text": [
            "Sobrepeso\n"
          ]
        }
      ]
    },
    {
      "cell_type": "code",
      "source": [
        "def calculadora(num1, num2, operacao):\n",
        "    if operacao == 1:\n",
        "        return num1 + num2\n",
        "    elif operacao == 2:\n",
        "        return num1 - num2\n",
        "    elif operacao == 3:\n",
        "        return num1 * num2\n",
        "    elif operacao == 4:\n",
        "        # Verifica se o divisor é zero para evitar divisão por zero\n",
        "        if num2 != 0:\n",
        "            return num1 / num2\n",
        "        else:\n",
        "            print(\"Erro: Divisão por zero.\")\n",
        "            return 0\n",
        "    else:\n",
        "        print(\"Operação inválida.\")\n",
        "        return 0\n",
        "\n",
        "# Exemplo de uso da calculadora\n",
        "numero1 = float(input(\"Digite o primeiro número: \"))\n",
        "numero2 = float(input(\"Digite o segundo número: \"))\n",
        "operacao = int(input(\"Digite o número da operação (1: Soma, 2: Subtração, 3: Multiplicação, 4: Divisão): \"))\n",
        "\n",
        "resultado = calculadora(numero1, numero2, operacao)\n",
        "print(f\"Resultado da operação: {resultado}\")\n"
      ],
      "metadata": {
        "id": "3Q9V1T1L1r7P",
        "colab": {
          "base_uri": "https://localhost:8080/"
        },
        "outputId": "8def0d19-10b2-4580-df74-aaae5f8db658"
      },
      "execution_count": 1,
      "outputs": [
        {
          "output_type": "stream",
          "name": "stdout",
          "text": [
            "Digite o primeiro número: 12\n",
            "Digite o segundo número: 21\n",
            "Digite o número da operação (1: Soma, 2: Subtração, 3: Multiplicação, 4: Divisão): 1\n",
            "Resultado da operação: 33.0\n"
          ]
        }
      ]
    },
    {
      "cell_type": "code",
      "source": [
        "def calculadora():\n",
        "    while True:\n",
        "        print(\"Escolha a operação:\")\n",
        "        print(\"1: Soma\")\n",
        "        print(\"2: Subtração\")\n",
        "        print(\"3: Multiplicação\")\n",
        "        print(\"4: Divisão\")\n",
        "        print(\"0: Sair\")\n",
        "\n",
        "        escolha = input(\"Digite o número da operação desejada: \")\n",
        "\n",
        "        if escolha == '0':\n",
        "            print(\"Saindo da calculadora. Até logo!\")\n",
        "            break\n",
        "\n",
        "        if escolha not in {'1', '2', '3', '4'}:\n",
        "            print(\"Essa opção não existe. Tente novamente.\")\n",
        "            continue\n",
        "\n",
        "        try:\n",
        "            num1 = float(input(\"Digite o primeiro valor: \"))\n",
        "            num2 = float(input(\"Digite o segundo valor: \"))\n",
        "        except ValueError:\n",
        "            print(\"Entrada inválida. Certifique-se de inserir números.\")\n",
        "            continue\n",
        "\n",
        "        if escolha == '1':\n",
        "            resultado = num1 + num2\n",
        "            operacao = \"Soma\"\n",
        "        elif escolha == '2':\n",
        "            resultado = num1 - num2\n",
        "            operacao = \"Subtração\"\n",
        "        elif escolha == '3':\n",
        "            resultado = num1 * num2\n",
        "            operacao = \"Multiplicação\"\n",
        "        elif escolha == '4':\n",
        "            if num2 != 0:\n",
        "                resultado = num1 / num2\n",
        "                operacao = \"Divisão\"\n",
        "            else:\n",
        "                print(\"Erro: Divisão por zero.\")\n",
        "                continue\n",
        "\n",
        "        print(f\"Resultado da {operacao}: {resultado}\")\n",
        "\n",
        "        continuar = input(\"Deseja continuar (S/N)? \").upper()\n",
        "        if continuar != 'S':\n",
        "            print(\"Saindo da calculadora. Até logo!\")\n",
        "            break\n",
        "\n",
        "if __name__ == \"__main__\":\n",
        "    calculadora()\n"
      ],
      "metadata": {
        "colab": {
          "base_uri": "https://localhost:8080/"
        },
        "id": "6mBMDsBIZp9Z",
        "outputId": "4243136f-6d4b-498b-9f43-753fe5e720c5"
      },
      "execution_count": null,
      "outputs": [
        {
          "output_type": "stream",
          "name": "stdout",
          "text": [
            "Escolha a operação:\n",
            "1: Soma\n",
            "2: Subtração\n",
            "3: Multiplicação\n",
            "4: Divisão\n",
            "0: Sair\n",
            "Digite o número da operação desejada: 2\n",
            "Digite o primeiro valor: 12\n",
            "Digite o segundo valor: 3\n",
            "Resultado da Subtração: 9.0\n",
            "Deseja continuar (S/N)? n\n",
            "Saindo da calculadora. Até logo!\n"
          ]
        }
      ]
    },
    {
      "cell_type": "code",
      "source": [
        "# Funções de operação\n",
        "def soma(x, y):\n",
        "    return x + y\n",
        "\n",
        "def subtracao(x, y):\n",
        "    return x - y\n",
        "\n",
        "def multiplicacao(x, y):\n",
        "    return x * y\n",
        "\n",
        "def divisao(x, y):\n",
        "    return x / y\n",
        "\n",
        "# Menu de opções\n",
        "def menu():\n",
        "    print(\"** Calculadora **\")\n",
        "    print(\"1: Soma\")\n",
        "    print(\"2: Subtração\")\n",
        "    print(\"3: Multiplicação\")\n",
        "    print(\"4: Divisão\")\n",
        "    print(\"0: Sair\")\n",
        "\n",
        "# Programa principal\n",
        "while True:\n",
        "    # Exibe o menu de opções\n",
        "    menu()\n",
        "\n",
        "    # Solicita a operação\n",
        "    operacao = int(input(\"Digite a operação (0-4): \"))\n",
        "\n",
        "    # Verifica a operação\n",
        "    if operacao == 0:\n",
        "        break\n",
        "    elif operacao < 0 or operacao > 4:\n",
        "        print(\"Essa opção não existe.\")\n",
        "        continue\n",
        "\n",
        "    # Solicita os valores\n",
        "    num1 = float(input(\"Digite o primeiro valor: \"))\n",
        "    num2 = float(input(\"Digite o segundo valor: \"))\n",
        "\n",
        "    # Executa a operação\n",
        "    resultado = 0\n",
        "    if operacao == 1:\n",
        "        resultado = soma(num1, num2)\n",
        "    elif operacao == 2:\n",
        "        resultado = subtracao(num1, num2)\n",
        "    elif operacao == 3:\n",
        "        resultado = multiplicacao(num1, num2)\n",
        "    elif operacao == 4:\n",
        "        if num2 != 0:\n",
        "          resultado = divisao(num1, num2)\n",
        "        else:\n",
        "          print(\"Erro: Divisão por zero.\")\n",
        "        continue\n",
        "\n",
        "    # Exibe o resultado\n",
        "    print(\"O resultado é:\", resultado)\n",
        "\n",
        "    # Solicita se deseja continuar\n",
        "    opcao = int(input(\"Deseja continuar (0-1): \"))\n",
        "    if opcao == 0:\n",
        "        break\n"
      ],
      "metadata": {
        "colab": {
          "base_uri": "https://localhost:8080/"
        },
        "id": "eX6ajTclZxVA",
        "outputId": "4247d627-bb89-4af7-dbc0-0b7de7e6d5fa"
      },
      "execution_count": null,
      "outputs": [
        {
          "name": "stdout",
          "output_type": "stream",
          "text": [
            "** Calculadora **\n",
            "1: Soma\n",
            "2: Subtração\n",
            "3: Multiplicação\n",
            "4: Divisão\n",
            "0: Sair\n",
            "Digite a operação (0-4): 2\n",
            "Digite o primeiro valor: 25\n",
            "Digite o segundo valor: 5\n",
            "O resultado é: 20.0\n",
            "Deseja continuar (0-1): 0\n"
          ]
        }
      ]
    }
  ]
}